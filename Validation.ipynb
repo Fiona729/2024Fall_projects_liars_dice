{
 "cells": [
  {
   "cell_type": "code",
   "execution_count": 1,
   "id": "386aafd7-e506-4601-bb6b-6c1d7eca1466",
   "metadata": {},
   "outputs": [],
   "source": [
    "import function as game\n",
    "import pandas as pd \n",
    "import seaborn as sns\n",
    "import matplotlib.pyplot as plt\n",
    "import doctest"
   ]
  },
  {
   "cell_type": "code",
   "execution_count": 2,
   "id": "044cbf19-5d4f-4498-b585-124832adae7c",
   "metadata": {},
   "outputs": [],
   "source": [
    "# simulat the game with 2 players and each player has 5 dices\n",
    "num_players = 5\n",
    "num_dice = 5\n",
    "times = 1000"
   ]
  },
  {
   "cell_type": "code",
   "execution_count": 3,
   "id": "3698ef4e-0cfe-49c5-a2fc-83eca2c01f81",
   "metadata": {},
   "outputs": [],
   "source": [
    "# set the validation index\n",
    "results = {}\n",
    "first_players = {}\n",
    "original = {key: 0 for key in range(1, 7)}\n",
    "liar_player = {key :0 for key in range(num_players)}\n",
    "quantity = list(range(1, (num_players * num_dice) + 1))  \n",
    "face_value = list(range(1, 7))\n",
    "data = [(q, f, 0, 0, 0) for q in quantity for f in face_value]\n",
    "liar_occur_bid = pd.DataFrame(data,columns = ['quantity','face_value','times','valid_times','invalid_times'])\n",
    "liar_result = {\"valid\":0, \"invalid\" :0}\n",
    "for i in range(num_players):\n",
    "    results[f\"player{i}\"] = 0\n",
    "    first_players[f'player {i}'] = 0"
   ]
  },
  {
   "cell_type": "code",
   "execution_count": 4,
   "id": "f66c51ae-cb8d-4d70-b27b-739fe45a39db",
   "metadata": {},
   "outputs": [
    {
     "data": {
      "text/plain": [
       "TestResults(failed=0, attempted=4)"
      ]
     },
     "execution_count": 4,
     "metadata": {},
     "output_type": "execute_result"
    }
   ],
   "source": [
    "#check if the bid is valid\n",
    "def valid_bid(bids):\n",
    "    \"\"\"\n",
    "    Check if the bid sequence is valid: at least one of quantity or face_value\n",
    "    increases in every step.\n",
    "\n",
    "    :param bids: List of bids, where each bid is [quantity, face_value].\n",
    "    :return: True if all bids are valid, False otherwise.\n",
    "    >>> bids = [[4, 1], [4, 2], [10, 5], [14, 5], [16, 4], [18, 4], [19, 4]]\n",
    "    >>> valid_bid(bids)\n",
    "    True\n",
    "    >>> bids = [[4, 1], [4, 2], [10, 5], [9, 5], [16, 4], [18, 4], [19, 4]]\n",
    "    >>> valid_bid(bids)\n",
    "    False\n",
    "    \"\"\"\n",
    "    is_increasing = True  \n",
    "    for i in range(1, len(bids)):\n",
    "        prev_quantity, prev_face_value = bids[i - 1]\n",
    "        curr_quantity, curr_face_value = bids[i]\n",
    "        if not (curr_quantity > prev_quantity or curr_face_value > prev_face_value):\n",
    "            is_increasing = False\n",
    "            break\n",
    "    return is_increasing\n",
    "doctest.testmod()"
   ]
  },
  {
   "cell_type": "code",
   "execution_count": 5,
   "id": "f2e030df-adab-4428-8317-712d07337724",
   "metadata": {},
   "outputs": [],
   "source": [
    "for _ in range(times):\n",
    "    winner, first_player, bid_record, liar_record, bid_times,original_dices = game.simulate_game(num_players, num_dice)\n",
    "\n",
    "    #check if the bid is valid \n",
    "    for bid in bid_record:\n",
    "        bids = []\n",
    "        for player, action in bid.items():\n",
    "            if action == 'liar':\n",
    "                if valid_bid(bids):\n",
    "                    pass \n",
    "                else:\n",
    "                    print(\"There are invalid bid exists\")\n",
    "            else:\n",
    "                bids.append(action)\n",
    "\n",
    "    #record the winner and the first player distribution\n",
    "    results[f\"player{winner}\"] += 1\n",
    "    first_players[f\"player {first_player}\"] += 1\n",
    "    \n",
    "    #record the original dice distribution\n",
    "    for key, values in original_dices.items():\n",
    "        original[key] += values\n",
    "\n",
    "    #record the liar call results\n",
    "    for i in range(len(liar_record)):\n",
    "        bid_times,current_player,challenge_bid,result,active_players = liar_record[i]\n",
    "        if result == \"valid\":\n",
    "            liar_result['valid']  += 1 \n",
    "        else:\n",
    "            liar_result['invalid'] += 1\n",
    "        liar_player[current_player] += 1\n",
    "        quantity, face_value = challenge_bid\n",
    "        index = liar_occur_bid[(liar_occur_bid['quantity'] == quantity) & (liar_occur_bid['face_value'] == face_value)].index\n",
    "        liar_occur_bid.loc[index,'times'] += 1\n",
    "        if result == \"valid\":\n",
    "            liar_occur_bid.loc[index,'valid_times'] += 1 \n",
    "        else:\n",
    "            liar_occur_bid.loc[index,'invalid_times'] += 1         "
   ]
  },
  {
   "cell_type": "code",
   "execution_count": 6,
   "id": "f90396be-0475-462c-9282-9bfa7b4f209c",
   "metadata": {},
   "outputs": [
    {
     "data": {
      "text/html": [
       "<div>\n",
       "<style scoped>\n",
       "    .dataframe tbody tr th:only-of-type {\n",
       "        vertical-align: middle;\n",
       "    }\n",
       "\n",
       "    .dataframe tbody tr th {\n",
       "        vertical-align: top;\n",
       "    }\n",
       "\n",
       "    .dataframe thead th {\n",
       "        text-align: right;\n",
       "    }\n",
       "</style>\n",
       "<table border=\"1\" class=\"dataframe\">\n",
       "  <thead>\n",
       "    <tr style=\"text-align: right;\">\n",
       "      <th></th>\n",
       "      <th>Face_value</th>\n",
       "      <th>Occurrence</th>\n",
       "      <th>Occurrence rate</th>\n",
       "    </tr>\n",
       "  </thead>\n",
       "  <tbody>\n",
       "    <tr>\n",
       "      <th>0</th>\n",
       "      <td>1</td>\n",
       "      <td>4143</td>\n",
       "      <td>16.57%</td>\n",
       "    </tr>\n",
       "    <tr>\n",
       "      <th>1</th>\n",
       "      <td>2</td>\n",
       "      <td>4117</td>\n",
       "      <td>16.47%</td>\n",
       "    </tr>\n",
       "    <tr>\n",
       "      <th>2</th>\n",
       "      <td>3</td>\n",
       "      <td>4112</td>\n",
       "      <td>16.45%</td>\n",
       "    </tr>\n",
       "    <tr>\n",
       "      <th>3</th>\n",
       "      <td>4</td>\n",
       "      <td>4247</td>\n",
       "      <td>16.99%</td>\n",
       "    </tr>\n",
       "    <tr>\n",
       "      <th>4</th>\n",
       "      <td>5</td>\n",
       "      <td>4183</td>\n",
       "      <td>16.73%</td>\n",
       "    </tr>\n",
       "    <tr>\n",
       "      <th>5</th>\n",
       "      <td>6</td>\n",
       "      <td>4198</td>\n",
       "      <td>16.79%</td>\n",
       "    </tr>\n",
       "  </tbody>\n",
       "</table>\n",
       "</div>"
      ],
      "text/plain": [
       "   Face_value  Occurrence Occurrence rate\n",
       "0           1        4143          16.57%\n",
       "1           2        4117          16.47%\n",
       "2           3        4112          16.45%\n",
       "3           4        4247          16.99%\n",
       "4           5        4183          16.73%\n",
       "5           6        4198          16.79%"
      ]
     },
     "execution_count": 6,
     "metadata": {},
     "output_type": "execute_result"
    }
   ],
   "source": [
    "#check if the original dices are random\n",
    "df = pd.DataFrame(list(original.items()), columns=[\"Face_value\", \"Occurrence\"])\n",
    "df['Occurrence rate'] = df['Occurrence'] / (times * num_players * num_dice)\n",
    "df[\"Occurrence rate\"] = df[\"Occurrence rate\"].apply(lambda x: f\"{x:.2%}\") \n",
    "df"
   ]
  },
  {
   "cell_type": "code",
   "execution_count": 7,
   "id": "6f016400-a74b-4d7f-8b51-ec8426f54c62",
   "metadata": {},
   "outputs": [
    {
     "data": {
      "text/html": [
       "<div>\n",
       "<style scoped>\n",
       "    .dataframe tbody tr th:only-of-type {\n",
       "        vertical-align: middle;\n",
       "    }\n",
       "\n",
       "    .dataframe tbody tr th {\n",
       "        vertical-align: top;\n",
       "    }\n",
       "\n",
       "    .dataframe thead th {\n",
       "        text-align: right;\n",
       "    }\n",
       "</style>\n",
       "<table border=\"1\" class=\"dataframe\">\n",
       "  <thead>\n",
       "    <tr style=\"text-align: right;\">\n",
       "      <th></th>\n",
       "      <th>Player</th>\n",
       "      <th>Wins</th>\n",
       "      <th>Win Rate</th>\n",
       "    </tr>\n",
       "  </thead>\n",
       "  <tbody>\n",
       "    <tr>\n",
       "      <th>0</th>\n",
       "      <td>player0</td>\n",
       "      <td>207</td>\n",
       "      <td>20.70%</td>\n",
       "    </tr>\n",
       "    <tr>\n",
       "      <th>1</th>\n",
       "      <td>player1</td>\n",
       "      <td>186</td>\n",
       "      <td>18.60%</td>\n",
       "    </tr>\n",
       "    <tr>\n",
       "      <th>2</th>\n",
       "      <td>player2</td>\n",
       "      <td>215</td>\n",
       "      <td>21.50%</td>\n",
       "    </tr>\n",
       "    <tr>\n",
       "      <th>3</th>\n",
       "      <td>player3</td>\n",
       "      <td>190</td>\n",
       "      <td>19.00%</td>\n",
       "    </tr>\n",
       "    <tr>\n",
       "      <th>4</th>\n",
       "      <td>player4</td>\n",
       "      <td>202</td>\n",
       "      <td>20.20%</td>\n",
       "    </tr>\n",
       "  </tbody>\n",
       "</table>\n",
       "</div>"
      ],
      "text/plain": [
       "    Player  Wins Win Rate\n",
       "0  player0   207   20.70%\n",
       "1  player1   186   18.60%\n",
       "2  player2   215   21.50%\n",
       "3  player3   190   19.00%\n",
       "4  player4   202   20.20%"
      ]
     },
     "execution_count": 7,
     "metadata": {},
     "output_type": "execute_result"
    }
   ],
   "source": [
    "# check if everyone's win rate is equal \n",
    "win_rate_df = pd.DataFrame(list(results.items()), columns=[\"Player\", \"Wins\"])\n",
    "win_rate_df['Win Rate'] = win_rate_df['Wins'] / times\n",
    "win_rate_df[\"Win Rate\"] = win_rate_df[\"Win Rate\"].apply(lambda x: f\"{x:.2%}\") \n",
    "win_rate_df"
   ]
  },
  {
   "cell_type": "code",
   "execution_count": 8,
   "id": "e34fc17d-7c13-4751-a175-f30b3cf3accd",
   "metadata": {},
   "outputs": [
    {
     "data": {
      "text/html": [
       "<div>\n",
       "<style scoped>\n",
       "    .dataframe tbody tr th:only-of-type {\n",
       "        vertical-align: middle;\n",
       "    }\n",
       "\n",
       "    .dataframe tbody tr th {\n",
       "        vertical-align: top;\n",
       "    }\n",
       "\n",
       "    .dataframe thead th {\n",
       "        text-align: right;\n",
       "    }\n",
       "</style>\n",
       "<table border=\"1\" class=\"dataframe\">\n",
       "  <thead>\n",
       "    <tr style=\"text-align: right;\">\n",
       "      <th></th>\n",
       "      <th>Player</th>\n",
       "      <th>Start times</th>\n",
       "      <th>Start rate</th>\n",
       "    </tr>\n",
       "  </thead>\n",
       "  <tbody>\n",
       "    <tr>\n",
       "      <th>0</th>\n",
       "      <td>player 0</td>\n",
       "      <td>188</td>\n",
       "      <td>18.80%</td>\n",
       "    </tr>\n",
       "    <tr>\n",
       "      <th>1</th>\n",
       "      <td>player 1</td>\n",
       "      <td>198</td>\n",
       "      <td>19.80%</td>\n",
       "    </tr>\n",
       "    <tr>\n",
       "      <th>2</th>\n",
       "      <td>player 2</td>\n",
       "      <td>185</td>\n",
       "      <td>18.50%</td>\n",
       "    </tr>\n",
       "    <tr>\n",
       "      <th>3</th>\n",
       "      <td>player 3</td>\n",
       "      <td>215</td>\n",
       "      <td>21.50%</td>\n",
       "    </tr>\n",
       "    <tr>\n",
       "      <th>4</th>\n",
       "      <td>player 4</td>\n",
       "      <td>214</td>\n",
       "      <td>21.40%</td>\n",
       "    </tr>\n",
       "  </tbody>\n",
       "</table>\n",
       "</div>"
      ],
      "text/plain": [
       "     Player  Start times Start rate\n",
       "0  player 0          188     18.80%\n",
       "1  player 1          198     19.80%\n",
       "2  player 2          185     18.50%\n",
       "3  player 3          215     21.50%\n",
       "4  player 4          214     21.40%"
      ]
     },
     "execution_count": 8,
     "metadata": {},
     "output_type": "execute_result"
    }
   ],
   "source": [
    "#check if the first player is random\n",
    "start_rate_df = pd.DataFrame(list(first_players.items()), columns=[\"Player\", \"Start times\"])\n",
    "start_rate_df['Start rate'] = start_rate_df['Start times'] / times\n",
    "start_rate_df[\"Start rate\"] = start_rate_df[\"Start rate\"].apply(lambda x: f\"{x:.2%}\") \n",
    "start_rate_df"
   ]
  },
  {
   "cell_type": "code",
   "execution_count": 9,
   "id": "7dad7beb-288b-45b4-8b42-614ccf0aeb31",
   "metadata": {},
   "outputs": [
    {
     "name": "stdout",
     "output_type": "stream",
     "text": [
      "     quantity  face_value  times  valid_times  invalid_times\n",
      "59         10           6    623          620              3\n",
      "89         15           6    533          533              0\n",
      "119        20           6    451          451              0\n",
      "149        25           6    443          443              0\n",
      "53          9           6     63           56              7\n",
      "..        ...         ...    ...          ...            ...\n",
      "148        25           5      0            0              0\n",
      "145        25           2      0            0              0\n",
      "146        25           3      0            0              0\n",
      "1           1           2      0            0              0\n",
      "0           1           1      0            0              0\n",
      "\n",
      "[150 rows x 5 columns]\n"
     ]
    },
    {
     "data": {
      "image/png": "[encoded data removed]",
      "text/plain": [
       "<Figure size 640x480 with 2 Axes>"
      ]
     },
     "metadata": {},
     "output_type": "display_data"
    }
   ],
   "source": [
    "#check if the liar call is random \n",
    "liar_occur_bid = liar_occur_bid .sort_values(by='times', ascending=False)\n",
    "print(liar_occur_bid)\n",
    "#draw the heatmap of challenge_bid \n",
    "pivot_table = liar_occur_bid.pivot(index='face_value', columns='quantity', values='times')\n",
    "sns.heatmap(pivot_table, annot=False, fmt=\"d\", cmap=\"coolwarm\", cbar=True)\n",
    "plt.title(\"Heatmap of Quantity vs Face Value\")\n",
    "plt.xlabel(\"Quantity\")\n",
    "plt.ylabel(\"Face Value\")\n",
    "plt.show()"
   ]
  },
  {
   "cell_type": "code",
   "execution_count": 10,
   "id": "006fa4c5-1f16-4a21-9cf5-2fc2d4281fcc",
   "metadata": {},
   "outputs": [
    {
     "data": {
      "image/png": "[encoded data removed]",
      "text/plain": [
       "<Figure size 800x600 with 1 Axes>"
      ]
     },
     "metadata": {},
     "output_type": "display_data"
    }
   ],
   "source": [
    "#check if with the quantity rasies, the valid rate increases,\n",
    "#need to exclude the maxmum quantity matching the max_dices\n",
    "grouped_liar = liar_occur_bid.groupby('quantity').agg({'times':'sum', 'valid_times':'sum', 'invalid_times':'sum'})\n",
    "grouped_liar['valid_rate'] = grouped_liar['valid_times'] / grouped_liar['times']\n",
    "grouped_liar\n",
    "plt.figure(figsize=(8, 6))\n",
    "plt.plot(grouped_liar.index, grouped_liar['valid_rate'], marker='o', label='Valid Rate')\n",
    "plt.title(\"Valid Rate across Quantity\")\n",
    "plt.xlabel(\"Quantity\")\n",
    "plt.ylabel(\"Valid Rate\")\n",
    "plt.ylim(0, 1)  # Valid rate is a ratio (0 to 1)\n",
    "plt.grid(True)\n",
    "plt.legend()\n",
    "plt.show()"
   ]
  },
  {
   "cell_type": "code",
   "execution_count": 11,
   "id": "7fceb4b4-be3c-46c3-9b18-46f22410637f",
   "metadata": {},
   "outputs": [
    {
     "name": "stdout",
     "output_type": "stream",
     "text": [
      "{0: 813, 1: 762, 2: 813, 3: 822, 4: 790}\n"
     ]
    }
   ],
   "source": [
    "# check if the liar caller is random\n",
    "print(liar_player)"
   ]
  }
 ],
 "metadata": {
  "kernelspec": {
   "display_name": "Python 3 (ipykernel)",
   "language": "python",
   "name": "python3"
  },
  "language_info": {
   "codemirror_mode": {
    "name": "ipython",
    "version": 3
   },
   "file_extension": ".py",
   "mimetype": "text/x-python",
   "name": "python",
   "nbconvert_exporter": "python",
   "pygments_lexer": "ipython3",
   "version": "3.12.4"
  }
 },
 "nbformat": 4,
 "nbformat_minor": 5
}
